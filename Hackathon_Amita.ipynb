{
  "nbformat": 4,
  "nbformat_minor": 0,
  "metadata": {
    "colab": {
      "provenance": [],
      "toc_visible": true,
      "authorship_tag": "ABX9TyPN0fDksEtonBu2Yey5FzM3",
      "include_colab_link": true
    },
    "kernelspec": {
      "name": "python3",
      "display_name": "Python 3"
    },
    "language_info": {
      "name": "python"
    }
  },
  "cells": [
    {
      "cell_type": "markdown",
      "metadata": {
        "id": "view-in-github",
        "colab_type": "text"
      },
      "source": [
        "<a href=\"https://colab.research.google.com/github/Amita9999/Bigdata-hackathon-submission/blob/main/Hackathon_Amita.ipynb\" target=\"_parent\"><img src=\"https://colab.research.google.com/assets/colab-badge.svg\" alt=\"Open In Colab\"/></a>"
      ]
    },
    {
      "cell_type": "code",
      "execution_count": null,
      "metadata": {
        "id": "2ntTksOeyp1h",
        "colab": {
          "base_uri": "https://localhost:8080/"
        },
        "outputId": "f7b7a41a-012a-43f9-f454-ccaf85d4cedf"
      },
      "outputs": [
        {
          "output_type": "stream",
          "name": "stdout",
          "text": [
            "Collecting pyspark\n",
            "  Downloading pyspark-3.5.1.tar.gz (317.0 MB)\n",
            "\u001b[2K     \u001b[90m━━━━━━━━━━━━━━━━━━━━━━━━━━━━━━━━━━━━━━━━\u001b[0m \u001b[32m317.0/317.0 MB\u001b[0m \u001b[31m3.4 MB/s\u001b[0m eta \u001b[36m0:00:00\u001b[0m\n",
            "\u001b[?25h  Preparing metadata (setup.py) ... \u001b[?25l\u001b[?25hdone\n",
            "Requirement already satisfied: py4j==0.10.9.7 in /usr/local/lib/python3.10/dist-packages (from pyspark) (0.10.9.7)\n",
            "Building wheels for collected packages: pyspark\n",
            "  Building wheel for pyspark (setup.py) ... \u001b[?25l\u001b[?25hdone\n",
            "  Created wheel for pyspark: filename=pyspark-3.5.1-py2.py3-none-any.whl size=317488491 sha256=9e0d3deb4cf2e7c4e004f4da213eb52698507cb85d471b45484cf1e3306b1f3c\n",
            "  Stored in directory: /root/.cache/pip/wheels/80/1d/60/2c256ed38dddce2fdd93be545214a63e02fbd8d74fb0b7f3a6\n",
            "Successfully built pyspark\n",
            "Installing collected packages: pyspark\n",
            "Successfully installed pyspark-3.5.1\n",
            "Requirement already satisfied: requests in /usr/local/lib/python3.10/dist-packages (2.31.0)\n",
            "Requirement already satisfied: charset-normalizer<4,>=2 in /usr/local/lib/python3.10/dist-packages (from requests) (3.3.2)\n",
            "Requirement already satisfied: idna<4,>=2.5 in /usr/local/lib/python3.10/dist-packages (from requests) (3.6)\n",
            "Requirement already satisfied: urllib3<3,>=1.21.1 in /usr/local/lib/python3.10/dist-packages (from requests) (2.0.7)\n",
            "Requirement already satisfied: certifi>=2017.4.17 in /usr/local/lib/python3.10/dist-packages (from requests) (2024.2.2)\n",
            "Requirement already satisfied: pandas in /usr/local/lib/python3.10/dist-packages (1.5.3)\n",
            "Requirement already satisfied: python-dateutil>=2.8.1 in /usr/local/lib/python3.10/dist-packages (from pandas) (2.8.2)\n",
            "Requirement already satisfied: pytz>=2020.1 in /usr/local/lib/python3.10/dist-packages (from pandas) (2023.4)\n",
            "Requirement already satisfied: numpy>=1.21.0 in /usr/local/lib/python3.10/dist-packages (from pandas) (1.25.2)\n",
            "Requirement already satisfied: six>=1.5 in /usr/local/lib/python3.10/dist-packages (from python-dateutil>=2.8.1->pandas) (1.16.0)\n",
            "\u001b[31mERROR: Could not find a version that satisfies the requirement StringIO (from versions: none)\u001b[0m\u001b[31m\n",
            "\u001b[0m\u001b[31mERROR: No matching distribution found for StringIO\u001b[0m\u001b[31m\n",
            "\u001b[0m"
          ]
        }
      ],
      "source": [
        "#Hackathon code\n",
        "# Install spark\n",
        "!pip install pyspark\n",
        "!pip install requests\n",
        "!pip install pandas\n",
        "!pip install StringIO"
      ]
    },
    {
      "cell_type": "code",
      "source": [
        "from pyspark.sql import SparkSession\n",
        "from pyspark.sql.types import *\n",
        "import requests\n",
        "import pandas as pd\n",
        "from io import StringIO\n",
        "\n",
        "\n",
        "spark=SparkSession.builder.appName('Hackathon').getOrCreate()\n",
        "\n",
        "schema_address = 'AddressID INTEGER, AddressLine1 STRING, AddressLine2 STRING, City STRING, StateProvince STRING, CountryRegion STRING, PostalCode STRING, rowguid STRING, ModifiedDate STRING'\n",
        "df = spark.read.csv('SalesLT.Address.csv', schema=schema_address)\n",
        "# if you want to overwrite the file\n",
        "#df.write.format(\"csv\").mode(\"overwrite\").save(\"SalesLT.Address_save.csv\")\n",
        "\n",
        "print(\"SalesLT.Address.CSV\")\n",
        "df.printSchema()\n",
        "df.show()"
      ],
      "metadata": {
        "colab": {
          "base_uri": "https://localhost:8080/"
        },
        "id": "83acUPuny20P",
        "outputId": "8bffa90f-3612-459e-bf45-319d4ab75cea"
      },
      "execution_count": null,
      "outputs": [
        {
          "output_type": "stream",
          "name": "stdout",
          "text": [
            "SalesLT.Address.CSV\n",
            "root\n",
            " |-- AddressID: integer (nullable = true)\n",
            " |-- AddressLine1: string (nullable = true)\n",
            " |-- AddressLine2: string (nullable = true)\n",
            " |-- City: string (nullable = true)\n",
            " |-- StateProvince: string (nullable = true)\n",
            " |-- CountryRegion: string (nullable = true)\n",
            " |-- PostalCode: string (nullable = true)\n",
            " |-- rowguid: string (nullable = true)\n",
            " |-- ModifiedDate: string (nullable = true)\n",
            "\n",
            "+---------+--------------------+------------+-----------+----------------+-------------+----------+--------------------+------------+\n",
            "|AddressID|        AddressLine1|AddressLine2|       City|   StateProvince|CountryRegion|PostalCode|             rowguid|ModifiedDate|\n",
            "+---------+--------------------+------------+-----------+----------------+-------------+----------+--------------------+------------+\n",
            "|     NULL|        AddressLine1|AddressLine2|       City|   StateProvince|CountryRegion|PostalCode|             rowguid|ModifiedDate|\n",
            "|        9|   8713 Yosemite Ct.|        NULL|    Bothell|      Washington|United States|     98011|268AF621-76D7-4C7...|     00:00.0|\n",
            "|       11| 1318 Lasalle Street|        NULL|    Bothell|      Washington|United States|     98011|981B3303-ACA2-49C...|     00:00.0|\n",
            "|       25|    9178 Jumping St.|        NULL|     Dallas|           Texas|United States|     75201|C8DF3BD9-48F0-465...|     00:00.0|\n",
            "|       28|    9228 Via Del Sol|        NULL|    Phoenix|         Arizona|United States|     85004|12AE5EE1-FC3E-468...|     00:00.0|\n",
            "|       32|   26910 Indela Road|        NULL|   Montreal|          Quebec|       Canada|   H1Y 2H5|84A95F62-3AE8-4E7...|     00:00.0|\n",
            "|      185|     2681 Eagle Peak|        NULL|   Bellevue|      Washington|United States|     98004|7BCCF442-2268-46C...|     00:00.0|\n",
            "|      297|     7943 Walnut Ave|        NULL|     Renton|      Washington|United States|     98055|52410DA4-2778-4B1...|     00:00.0|\n",
            "|      445|  6388 Lake City Way|        NULL|    Burnaby|British Columbia|       Canada|   V5A 3A6|53572F25-9133-4A8...|     00:00.0|\n",
            "|      446|   52560 Free Street|        NULL|    Toronto|         Ontario|       Canada|   M4B 1V7|801A1DFC-5125-486...|     00:00.0|\n",
            "|      447|   22580 Free Street|        NULL|    Toronto|         Ontario|       Canada|   M4B 1V7|88CEE379-DBB8-433...|     00:00.0|\n",
            "|      448|2575 Bloor Street...|        NULL|    Toronto|         Ontario|       Canada|   M4B 1V6|2DF6D0AD-0926-4F3...|     00:00.0|\n",
            "|      449|           Station E|        NULL|Chalk Riber|         Ontario|       Canada|   K0J 1J0|8B5A7729-CB75-430...|     00:00.0|\n",
            "|      450|   575 Rue St Amable|        NULL|     Quebec|          Quebec|       Canada|       G1R|5F3C345A-6475-41D...|     00:00.0|\n",
            "|      451|     2512-4th Ave Sw|        NULL|    Calgary|         Alberta|       Canada|   T2P 2G8|49644F1E-6F90-46D...|     00:00.0|\n",
            "|      452|55 Lakeshore Blvd...|        NULL|    Toronto|         Ontario|       Canada|   M4B 1V6|A358652F-0E00-49E...|     00:00.0|\n",
            "|      453|     6333 Cote Vertu|        NULL|   Montreal|          Quebec|       Canada|   H1Y 2H7|355681F2-4D9D-452...|     00:00.0|\n",
            "|      454|3255 Front Street...|        NULL|    Toronto|         Ontario|       Canada|   M4B 1V6|EF4DC57D-8B8B-407...|     00:00.0|\n",
            "|      455|   2550 Signet Drive|        NULL|     Weston|         Ontario|       Canada|   M9V 4W3|43D582CF-E95F-486...|     00:00.0|\n",
            "|      456|       6777 Kingsway|        NULL|    Burnaby|British Columbia|       Canada|   V5H 3Z7|2F3B383E-08A5-407...|     00:00.0|\n",
            "+---------+--------------------+------------+-----------+----------------+-------------+----------+--------------------+------------+\n",
            "only showing top 20 rows\n",
            "\n"
          ]
        }
      ]
    },
    {
      "cell_type": "code",
      "source": [
        "schema_customer = 'Customer INTEGER, NameStyle INTEGER, Title STRING, FirstName STRING, MiddleName STRING, LastName STRING, Suffix STRING, CompanyName STRING, SalesPerson STRING, EmailAddress STRING, Phone STRING, PassWordHash STRING, PasswordSalt STRING'\n",
        "df = spark.read.csv('SalesLT.Customer.csv', schema=schema_customer)\n",
        "\n",
        "print(\"SalesLT.Customer.CSV\")\n",
        "df.printSchema()\n",
        "df.show()"
      ],
      "metadata": {
        "colab": {
          "base_uri": "https://localhost:8080/"
        },
        "id": "qfj35Mt622cs",
        "outputId": "384e0061-0b80-4966-de9a-4bc6d21f6461"
      },
      "execution_count": null,
      "outputs": [
        {
          "output_type": "stream",
          "name": "stdout",
          "text": [
            "SalesLT.Customer.CSV\n",
            "root\n",
            " |-- Customer: integer (nullable = true)\n",
            " |-- NameStyle: integer (nullable = true)\n",
            " |-- Title: string (nullable = true)\n",
            " |-- FirstName: string (nullable = true)\n",
            " |-- MiddleName: string (nullable = true)\n",
            " |-- LastName: string (nullable = true)\n",
            " |-- Suffix: string (nullable = true)\n",
            " |-- CompanyName: string (nullable = true)\n",
            " |-- SalesPerson: string (nullable = true)\n",
            " |-- EmailAddress: string (nullable = true)\n",
            " |-- Phone: string (nullable = true)\n",
            " |-- PassWordHash: string (nullable = true)\n",
            " |-- PasswordSalt: string (nullable = true)\n",
            "\n",
            "+--------+---------+-----+-----------+----------+----------+------+--------------------+--------------------+--------------------+-------------------+--------------------+------------+\n",
            "|Customer|NameStyle|Title|  FirstName|MiddleName|  LastName|Suffix|         CompanyName|         SalesPerson|        EmailAddress|              Phone|        PassWordHash|PasswordSalt|\n",
            "+--------+---------+-----+-----------+----------+----------+------+--------------------+--------------------+--------------------+-------------------+--------------------+------------+\n",
            "|    NULL|     NULL|Title|  FirstName|MiddleName|  LastName|Suffix|         CompanyName|         SalesPerson|        EmailAddress|              Phone|        PasswordHash|PasswordSalt|\n",
            "|       1|        0|  Mr.|    Orlando|        N.|       Gee|  NULL|        A Bike Store|adventure-works\\p...|orlando0@adventur...|       245-555-0173|L/Rlwxzp4w7RWmEgX...|    1KjXYs4=|\n",
            "|       2|        0|  Mr.|      Keith|      NULL|    Harris|  NULL|  Progressive Sports|adventure-works\\d...|keith0@adventure-...|       170-555-0127|YPdtRdvqeAhj6wyxE...|    fs1ZGhY=|\n",
            "|       3|        0|  Ms.|      Donna|        F.|  Carreras|  NULL|Advanced Bike Com...|adventure-works\\j...|donna0@adventure-...|       279-555-0130|LNoK27abGQo48gGue...|    YTNH5Rw=|\n",
            "|       4|        0|  Ms.|      Janet|        M.|     Gates|  NULL|Modular Cycle Sys...|adventure-works\\j...|janet1@adventure-...|       710-555-0173|ElzTpSNbUW1Ut+L5c...|    nm7D5e4=|\n",
            "|       5|        0|  Mr.|       Lucy|      NULL|Harrington|  NULL|Metropolitan Spor...|adventure-works\\shu0|lucy0@adventure-w...|       828-555-0186|KJqV15wsX3PG8TS5G...|    cNFKU4w=|\n",
            "|       6|        0|  Ms.|   Rosmarie|        J.|   Carroll|  NULL|Aerobic Exercise ...|adventure-works\\l...|rosmarie0@adventu...|       244-555-0112|OKT0scizCdIzymHHO...|    ihWf50M=|\n",
            "|       7|        0|  Mr.|    Dominic|        P.|      Gash|  NULL|    Associated Bikes|adventure-works\\shu0|dominic0@adventur...|       192-555-0173|ZccoP/jZGQm+Xpzc7...|    sPoUBSQ=|\n",
            "|      10|        0|  Ms.|   Kathleen|        M.|     Garza|  NULL|Rural Cycle Emporium|adventure-works\\j...|kathleen0@adventu...|       150-555-0127|Qa3aMCxNbVLGrc0b9...|    Ls05W3g=|\n",
            "|      11|        0|  Ms.|  Katherine|      NULL|   Harding|  NULL|         Sharp Bikes|adventure-works\\j...|katherine0@advent...|       926-555-0159|uRlorVzDGNJIX9I+e...|    jpHKbqE=|\n",
            "|      12|        0|  Mr.|     Johnny|        A.|    Caprio|   Jr.|Bikes and Motorbikes|adventure-works\\g...|johnny0@adventure...|       112-555-0191|jtF9jBoFYeJTaET7x...|    wVLnvHo=|\n",
            "|      16|        0|  Mr.|Christopher|        R.|      Beck|   Jr.| Bulk Discount Store|adventure-works\\jae0|christopher1@adve...|1 (11) 500 555-0132|sKt9daCzEEKWAzivE...|    8KfYx/4=|\n",
            "|      18|        0|  Mr.|      David|        J.|       Liu|  NULL|       Catalog Store|adventure-works\\m...|david20@adventure...|       440-555-0132|61zeTkO+eI5g8GG0s...|    c7Ttvv0=|\n",
            "|      19|        0|  Mr.|       John|        A.|    Beaver|  NULL|   Center Cycle Shop|adventure-works\\p...|john8@adventure-w...|       521-555-0195|DzbqWX7B3EK5Dub92...|    zXNgrJw=|\n",
            "|      20|        0|  Ms.|       Jean|        P.|   Handley|  NULL|Central Discount ...|adventure-works\\d...|jean1@adventure-w...|       582-555-0113|o1GVo3vExeNzo0/ct...|    uMsvfdo=|\n",
            "|      21|        0| NULL|    Jinghao|      NULL|       Liu|  NULL|Chic Department S...|adventure-works\\j...|jinghao1@adventur...|       928-555-0116|IaD5AeqK9mRiIrJi/...|    p6pOqKc=|\n",
            "|      22|        0|  Ms.|      Linda|        E.|   Burnett|  NULL|      Travel Systems|adventure-works\\j...|linda4@adventure-...|       121-555-0121|23AwhujCoXYSPiN/B...|    SmyIPjE=|\n",
            "|      23|        0|  Mr.|      Kerim|      NULL|     Hanif|  NULL|          Bike World|adventure-works\\shu0|kerim0@adventure-...|       216-555-0122|d0WSjosAd7Y3XOWjN...|    33g5co8=|\n",
            "|      24|        0|  Mr.|      Kevin|      NULL|       Liu|  NULL|Eastside Departme...|adventure-works\\l...|kevin5@adventure-...|       926-555-0164|ylTpkIOHKLcjihNjS...|    TgZnUOg=|\n",
            "|      25|        0|  Mr.|     Donald|        L.|   Blanton|  NULL|Coalition Bike Co...|adventure-works\\shu0|donald0@adventure...|       357-555-0161|pKYDelLBOZMO98GBz...|    jKtOaOw=|\n",
            "+--------+---------+-----+-----------+----------+----------+------+--------------------+--------------------+--------------------+-------------------+--------------------+------------+\n",
            "only showing top 20 rows\n",
            "\n"
          ]
        }
      ]
    },
    {
      "cell_type": "code",
      "source": [
        "schema_customeraddress = 'CustomerID INTEGER, AddressID INTEGER, AddressType STRING'\n",
        "df = spark.read.csv('SalesLT.CustomerAddress.csv', schema=schema_customeraddress)\n",
        "\n",
        "print(\"SalesLT.CustomerAddress.CSV\")\n",
        "df.printSchema()\n",
        "df.show()"
      ],
      "metadata": {
        "colab": {
          "base_uri": "https://localhost:8080/"
        },
        "id": "52YkSuRsMHEE",
        "outputId": "902a96f2-c27a-41f6-8820-8aa241db2265"
      },
      "execution_count": null,
      "outputs": [
        {
          "output_type": "stream",
          "name": "stdout",
          "text": [
            "SalesLT.CustomerAddress.CSV\n",
            "root\n",
            " |-- CustomerID: integer (nullable = true)\n",
            " |-- AddressID: integer (nullable = true)\n",
            " |-- AddressType: string (nullable = true)\n",
            "\n",
            "+----------+---------+-----------+\n",
            "|CustomerID|AddressID|AddressType|\n",
            "+----------+---------+-----------+\n",
            "|      NULL|     NULL|AddressType|\n",
            "|     29485|     1086|Main Office|\n",
            "|     29486|      621|Main Office|\n",
            "|     29489|     1069|Main Office|\n",
            "|     29490|      887|Main Office|\n",
            "|     29492|      618|Main Office|\n",
            "|     29494|      537|Main Office|\n",
            "|     29496|     1072|Main Office|\n",
            "|     29497|      889|Main Office|\n",
            "|     29499|      527|Main Office|\n",
            "|     29502|      893|Main Office|\n",
            "|     29503|       32|   Shipping|\n",
            "|     29503|      541|Main Office|\n",
            "|     29505|     1083|Main Office|\n",
            "|     29506|     1082|Main Office|\n",
            "|     29508|      619|Main Office|\n",
            "|     29510|      540|Main Office|\n",
            "|     29511|     1046|Main Office|\n",
            "|     29515|      504|Main Office|\n",
            "|     29517|      794|Main Office|\n",
            "+----------+---------+-----------+\n",
            "only showing top 20 rows\n",
            "\n"
          ]
        }
      ]
    },
    {
      "cell_type": "code",
      "source": [
        "schema_product = 'ProductID INTEGER, Name STRING, ProductNumber STRING, Color STRING, StandardCost FLOAT, ListPrice FLOAT, Size INTEGER, Weight FLOAT, ProductCategoryID INTEGER, ProductModelID INTEGER, SellStartDate STRING, SellEndDate STRING'\n",
        "df = spark.read.csv('Product.csv', header=True, inferSchema=True)\n",
        "print(\"Product.CSV\")\n",
        "#!wget 'https://raw.githubusercontent.com/Kiran-255666/AdventureWorks/main/Adventureworks/Product.csv'\n",
        "df.printSchema()\n",
        "df.show()"
      ],
      "metadata": {
        "colab": {
          "base_uri": "https://localhost:8080/"
        },
        "id": "lT3XqskcPgay",
        "outputId": "fdcc78c8-6c9d-4d93-df3b-ef78cf31c84c"
      },
      "execution_count": null,
      "outputs": [
        {
          "output_type": "stream",
          "name": "stdout",
          "text": [
            "Product.CSV\n",
            "root\n",
            " |-- ProductID: integer (nullable = true)\n",
            " |-- Name: string (nullable = true)\n",
            " |-- ProductNumber: string (nullable = true)\n",
            " |-- Color: string (nullable = true)\n",
            " |-- StandardCost: double (nullable = true)\n",
            " |-- ListPrice: double (nullable = true)\n",
            " |-- Size: string (nullable = true)\n",
            " |-- Weight: string (nullable = true)\n",
            " |-- ProductCategoryID: integer (nullable = true)\n",
            " |-- ProductModelID: integer (nullable = true)\n",
            " |-- SellStartDate: string (nullable = true)\n",
            " |-- SellEndDate: string (nullable = true)\n",
            " |-- DiscontinuedDate: string (nullable = true)\n",
            " |-- ThumbNailPhoto: string (nullable = true)\n",
            " |-- ThumbnailPhotoFileName: string (nullable = true)\n",
            " |-- rowguid: string (nullable = true)\n",
            " |-- ModifiedDate: string (nullable = true)\n",
            "\n",
            "+---------+--------------------+-------------+-----+------------+---------+----+-------+-----------------+--------------+-------------+-----------+----------------+--------------------+----------------------+--------------------+------------+\n",
            "|ProductID|                Name|ProductNumber|Color|StandardCost|ListPrice|Size| Weight|ProductCategoryID|ProductModelID|SellStartDate|SellEndDate|DiscontinuedDate|      ThumbNailPhoto|ThumbnailPhotoFileName|             rowguid|ModifiedDate|\n",
            "+---------+--------------------+-------------+-----+------------+---------+----+-------+-----------------+--------------+-------------+-----------+----------------+--------------------+----------------------+--------------------+------------+\n",
            "|      680|HL Road Frame - B...|   FR-R92B-58|Black|     1059.31|   1431.5|  58|1016.04|               18|             6|      00:00.0|       NULL|            NULL|0x474946383961500...|  no_image_availabl...|43DD68D6-14A4-461...|     01:36.8|\n",
            "|      706|HL Road Frame - R...|   FR-R92R-58|  Red|     1059.31|   1431.5|  58|1016.04|               18|             6|      00:00.0|       NULL|            NULL|0x474946383961500...|  no_image_availabl...|9540FF17-2712-4C9...|     01:36.8|\n",
            "|      707|Sport-100 Helmet,...|    HL-U509-R|  Red|     13.0863|    34.99|NULL|   NULL|               35|            33|      00:00.0|       NULL|            NULL|0x474946383961500...|  no_image_availabl...|2E1EF41A-C08A-4FF...|     01:36.8|\n",
            "|      708|Sport-100 Helmet,...|      HL-U509|Black|     13.0863|    34.99|NULL|   NULL|               35|            33|      00:00.0|       NULL|            NULL|0x474946383961500...|  no_image_availabl...|A25A44FB-C2DE-426...|     01:36.8|\n",
            "|      709|Mountain Bike Soc...|    SO-B909-M|White|      3.3963|      9.5|   M|   NULL|               27|            18|      00:00.0|    00:00.0|            NULL|0x474946383961500...|  no_image_availabl...|18F95F47-1540-4E0...|     01:36.8|\n",
            "|      710|Mountain Bike Soc...|    SO-B909-L|White|      3.3963|      9.5|   L|   NULL|               27|            18|      00:00.0|    00:00.0|            NULL|0x474946383961500...|  no_image_availabl...|161C035E-21B3-4E1...|     01:36.8|\n",
            "|      711|Sport-100 Helmet,...|    HL-U509-B| Blue|     13.0863|    34.99|NULL|   NULL|               35|            33|      00:00.0|       NULL|            NULL|0x474946383961500...|  no_image_availabl...|FD7C0858-4179-48C...|     01:36.8|\n",
            "|      712|        AWC Logo Cap|      CA-1098|Multi|      6.9223|     8.99|NULL|   NULL|               23|             2|      00:00.0|       NULL|            NULL|0x474946383961500...|  no_image_availabl...|B9EDE243-A6F4-462...|     01:36.8|\n",
            "|      713|Long-Sleeve Logo ...|    LJ-0192-S|Multi|     38.4923|    49.99|   S|   NULL|               25|            11|      00:00.0|       NULL|            NULL|0x474946383961500...|  awc_jersey_male_s...|FD449C82-A259-4FA...|     01:36.8|\n",
            "|      714|Long-Sleeve Logo ...|    LJ-0192-M|Multi|     38.4923|    49.99|   M|   NULL|               25|            11|      00:00.0|       NULL|            NULL|0x474946383961500...|  awc_jersey_male_s...|6A290063-A0CF-432...|     01:36.8|\n",
            "|      715|Long-Sleeve Logo ...|    LJ-0192-L|Multi|     38.4923|    49.99|   L|   NULL|               25|            11|      00:00.0|       NULL|            NULL|0x474946383961500...|  awc_jersey_male_s...|34CF5EF5-C077-4EA...|     01:36.8|\n",
            "|      716|Long-Sleeve Logo ...|    LJ-0192-X|Multi|     38.4923|    49.99|  XL|   NULL|               25|            11|      00:00.0|       NULL|            NULL|0x474946383961500...|  awc_jersey_male_s...|6EC47EC9-C041-4DD...|     01:36.8|\n",
            "|      717|HL Road Frame - R...|   FR-R92R-62|  Red|    868.6342|   1431.5|  62|1043.26|               18|             6|      00:00.0|       NULL|            NULL|0x474946383961500...|  no_image_availabl...|052E4F8B-0A2A-46B...|     01:36.8|\n",
            "|      718|HL Road Frame - R...|   FR-R92R-44|  Red|    868.6342|   1431.5|  44| 961.61|               18|             6|      00:00.0|       NULL|            NULL|0x474946383961500...|  no_image_availabl...|A88D3B54-2CAE-43F...|     01:36.8|\n",
            "|      719|HL Road Frame - R...|   FR-R92R-48|  Red|    868.6342|   1431.5|  48| 979.75|               18|             6|      00:00.0|       NULL|            NULL|0x474946383961500...|  no_image_availabl...|07BEFC9A-7634-402...|     01:36.8|\n",
            "|      720|HL Road Frame - R...|   FR-R92R-52|  Red|    868.6342|   1431.5|  52|  997.9|               18|             6|      00:00.0|       NULL|            NULL|0x474946383961500...|  no_image_availabl...|FCFEA68F-310E-4E6...|     01:36.8|\n",
            "|      721|HL Road Frame - R...|   FR-R92R-56|  Red|    868.6342|   1431.5|  56|1016.04|               18|             6|      00:00.0|       NULL|            NULL|0x474946383961500...|  no_image_availabl...|56C85873-4993-41B...|     01:36.8|\n",
            "|      722|LL Road Frame - B...|   FR-R38B-58|Black|    204.6251|   337.22|  58|1115.83|               18|             9|      00:00.0|       NULL|            NULL|0x474946383961500...|  no_image_availabl...|2140F256-F705-4D6...|     01:36.8|\n",
            "|      723|LL Road Frame - B...|   FR-R38B-60|Black|    204.6251|   337.22|  60| 1124.9|               18|             9|      00:00.0|       NULL|            NULL|0x474946383961500...|  no_image_availabl...|AA95E2A5-E7C4-4B7...|     01:36.8|\n",
            "|      724|LL Road Frame - B...|   FR-R38B-62|Black|    204.6251|   337.22|  62|1133.98|               18|             9|      00:00.0|       NULL|            NULL|0x474946383961500...|  no_image_availabl...|5247BE33-50BF-452...|     01:36.8|\n",
            "+---------+--------------------+-------------+-----+------------+---------+----+-------+-----------------+--------------+-------------+-----------+----------------+--------------------+----------------------+--------------------+------------+\n",
            "only showing top 20 rows\n",
            "\n"
          ]
        }
      ]
    },
    {
      "cell_type": "code",
      "source": [
        "schema_productCategory = 'ProductCategoryID INTEGER, ParentProductCategoryID INTEGER, Name STRING'\n",
        "df = spark.read.csv('ProductCategory.csv', header=True, inferSchema=True)\n",
        "print(\"ProductCategory.CSV\")\n",
        "#!wget 'https://raw.githubusercontent.com/Kiran-255666/AdventureWorks/main/Adventureworks/Product.csv'\n",
        "df.printSchema()\n",
        "df.show()"
      ],
      "metadata": {
        "id": "TtqZJLcjvEjj",
        "colab": {
          "base_uri": "https://localhost:8080/"
        },
        "outputId": "3bdb788c-6c69-43df-8695-5fe29b538429"
      },
      "execution_count": null,
      "outputs": [
        {
          "output_type": "stream",
          "name": "stdout",
          "text": [
            "ProductCategory.CSV\n",
            "root\n",
            " |-- ProductCategoryID: integer (nullable = true)\n",
            " |-- ParentProductCategoryID: string (nullable = true)\n",
            " |-- Name: string (nullable = true)\n",
            " |-- rowguid: string (nullable = true)\n",
            " |-- ModifiedDate: string (nullable = true)\n",
            "\n",
            "+-----------------+-----------------------+---------------+--------------------+------------+\n",
            "|ProductCategoryID|ParentProductCategoryID|           Name|             rowguid|ModifiedDate|\n",
            "+-----------------+-----------------------+---------------+--------------------+------------+\n",
            "|                1|                   NULL|          Bikes|CFBDA25C-DF71-47A...|     00:00.0|\n",
            "|                2|                   NULL|     Components|C657828D-D808-4AB...|     00:00.0|\n",
            "|                3|                   NULL|       Clothing|10A7C342-CA82-48D...|     00:00.0|\n",
            "|                4|                   NULL|    Accessories|2BE3BE36-D9A2-4EE...|     00:00.0|\n",
            "|                5|                      1| Mountain Bikes|2D364ADE-264A-433...|     00:00.0|\n",
            "|                6|                      1|     Road Bikes|000310C0-BCC8-42C...|     00:00.0|\n",
            "|                7|                      1|  Touring Bikes|02C5061D-ECDC-427...|     00:00.0|\n",
            "|                8|                      2|     Handlebars|3EF2C725-7135-4C8...|     00:00.0|\n",
            "|                9|                      2|Bottom Brackets|A9E54089-8A1E-4CF...|     00:00.0|\n",
            "|               10|                      2|         Brakes|D43BA4A3-EF0D-426...|     00:00.0|\n",
            "|               11|                      2|         Chains|E93A7231-F16C-4B0...|     00:00.0|\n",
            "|               12|                      2|      Cranksets|4F644521-422B-4F1...|     00:00.0|\n",
            "|               13|                      2|    Derailleurs|1830D70C-AA2A-40C...|     00:00.0|\n",
            "|               14|                      2|          Forks|B5F9BA42-B69B-4FD...|     00:00.0|\n",
            "|               15|                      2|       Headsets|7C782BBE-5A16-495...|     00:00.0|\n",
            "|               16|                      2|Mountain Frames|61B21B65-E16A-4BE...|     00:00.0|\n",
            "|               17|                      2|         Pedals|6D24AC07-7A84-484...|     00:00.0|\n",
            "|               18|                      2|    Road Frames|5515F857-075B-4F9...|     00:00.0|\n",
            "|               19|                      2|        Saddles|049FFFA3-9D30-46D...|     00:00.0|\n",
            "|               20|                      2| Touring Frames|D2E3F1A8-56C4-4F3...|     00:00.0|\n",
            "+-----------------+-----------------------+---------------+--------------------+------------+\n",
            "only showing top 20 rows\n",
            "\n"
          ]
        }
      ]
    },
    {
      "cell_type": "code",
      "source": [
        "schema_productDescription = 'ProductDescriptionID INTEGER, Description STRING'\n",
        "df = spark.read.csv('ProductDescription.csv', header=True, inferSchema=True)\n",
        "print(\"ProductDescription.CSV\")\n",
        "#!wget 'https://raw.githubusercontent.com/Kiran-255666/AdventureWorks/main/Adventureworks/Product.csv'\n",
        "df.printSchema()\n",
        "df.show()"
      ],
      "metadata": {
        "colab": {
          "base_uri": "https://localhost:8080/"
        },
        "id": "YXqzot8dKu1m",
        "outputId": "d8945c5b-dd52-4b5d-a370-ee1642911ad1"
      },
      "execution_count": null,
      "outputs": [
        {
          "output_type": "stream",
          "name": "stdout",
          "text": [
            "ProductDescription.CSV\n",
            "root\n",
            " |-- ProductDescriptionID: integer (nullable = true)\n",
            " |-- Description: string (nullable = true)\n",
            " |-- rowguid: string (nullable = true)\n",
            " |-- ModifiedDate: string (nullable = true)\n",
            "\n",
            "+--------------------+--------------------+--------------------+------------+\n",
            "|ProductDescriptionID|         Description|             rowguid|ModifiedDate|\n",
            "+--------------------+--------------------+--------------------+------------+\n",
            "|                   3|     Chromoly steel.|301EED3A-1A82-485...|     00:00.0|\n",
            "|                   4|Aluminum alloy cu...|DFEBA528-DA11-465...|     00:00.0|\n",
            "|                   5|Aluminum alloy cu...|F7178DA7-1A7E-499...|     00:00.0|\n",
            "|                   8|Suitable for any ...|8E6746E5-AD97-46E...|     00:00.0|\n",
            "|                  64|This bike deliver...|7B1C4E90-85E2-479...|     00:00.0|\n",
            "|                  88|For true trail ad...|4C1AD253-357E-4A9...|     00:00.0|\n",
            "|                 128|Serious back-coun...|130709E6-8512-49B...|     32:18.0|\n",
            "|                 168|Top-of-the-line c...|DB979DA6-4CC8-417...|     00:00.0|\n",
            "|                 170|Suitable for any ...|EA772412-6369-441...|     00:00.0|\n",
            "|                 209|Entry level adult...|F5FF5FFD-CB7C-4AD...|     00:00.0|\n",
            "|                 249|Value-priced bike...|4291F144-7693-446...|     00:00.0|\n",
            "|                 320|Same technology a...|E130DED9-D0EC-465...|     00:00.0|\n",
            "|                 321|Same technology a...|C7B429DA-DC51-47D...|     00:00.0|\n",
            "|                 337|A true multi-spor...|DB560F0B-E70B-42A...|     00:00.0|\n",
            "|                 375|Cross-train, race...|747B2185-0320-4FE...|     00:00.0|\n",
            "|                 376|Cross-train, race...|F1D9955B-BC1C-4D3...|     00:00.0|\n",
            "|                 409|Alluminum-alloy f...|3DC76714-7572-454...|     00:00.0|\n",
            "|                 457|This bike is ridd...|3DDB8DEA-FC37-4E4...|     00:00.0|\n",
            "|                 513|All-occasion valu...|741EAE59-5E59-4DB...|     00:00.0|\n",
            "|                 554|The plush custom ...|DDC955B2-843E-49C...|     00:00.0|\n",
            "+--------------------+--------------------+--------------------+------------+\n",
            "only showing top 20 rows\n",
            "\n"
          ]
        }
      ]
    },
    {
      "cell_type": "code",
      "source": [
        "schema_ProductModelProductDescription = 'ProductModelID INTEGER, ProductDescriptionID INTEGER, Culture STRING'\n",
        "df = spark.read.csv('ProductModelProductDescription.csv', header=True, inferSchema=True)\n",
        "print(\"ProductModelProductDescription.CSV\")\n",
        "#!wget 'https://raw.githubusercontent.com/Kiran-255666/AdventureWorks/main/Adventureworks/Product.csv'\n",
        "df.printSchema()\n",
        "df.show()"
      ],
      "metadata": {
        "colab": {
          "base_uri": "https://localhost:8080/"
        },
        "id": "bVfvsIIYLhLI",
        "outputId": "6a69e0ce-d220-4cb4-cf9f-5dee31b145dc"
      },
      "execution_count": null,
      "outputs": [
        {
          "output_type": "stream",
          "name": "stdout",
          "text": [
            "ProductModelProductDescription.CSV\n",
            "root\n",
            " |-- ProductModelID: integer (nullable = true)\n",
            " |-- ProductDescriptionID: integer (nullable = true)\n",
            " |-- Culture: string (nullable = true)\n",
            " |-- rowguid: string (nullable = true)\n",
            " |-- ModifiedDate: string (nullable = true)\n",
            "\n",
            "+--------------+--------------------+-------+--------------------+------------+\n",
            "|ProductModelID|ProductDescriptionID|Culture|             rowguid|ModifiedDate|\n",
            "+--------------+--------------------+-------+--------------------+------------+\n",
            "|             1|                1199| en    |4D00B649-027A-4F9...|     00:00.0|\n",
            "|             1|                1467| ar    |7DE7204E-4EFC-40F...|     00:00.0|\n",
            "|             1|                1589| fr    |20BFFCF4-BFA6-400...|     00:00.0|\n",
            "|             1|                1712| th    |AF18BC29-F378-451...|     00:00.0|\n",
            "|             1|                1838| he    |23830AC3-3B16-49D...|     00:00.0|\n",
            "|             1|                1965| zh-cht|14ED10B6-0ACF-4D6...|     00:00.0|\n",
            "|             2|                1210| en    |623741C2-74BD-4CE...|     00:00.0|\n",
            "|             2|                1476| ar    |1451EB3E-BB1D-45B...|     00:00.0|\n",
            "|             2|                1598| fr    |6D7B1148-6159-4EC...|     00:00.0|\n",
            "|             2|                1721| th    |6AFCD17B-E1ED-4D7...|     00:00.0|\n",
            "|             2|                1847| he    |5E2AC850-C79D-4C3...|     00:00.0|\n",
            "|             2|                1974| zh-cht|8EAC26EA-E409-454...|     00:00.0|\n",
            "|             3|                1195| en    |CDA535B4-0A39-422...|     00:00.0|\n",
            "|             3|                1464| ar    |9349873B-F371-4EF...|     00:00.0|\n",
            "|             3|                1586| fr    |3E7C5796-70BC-43E...|     00:00.0|\n",
            "|             3|                1709| th    |772C7181-526E-445...|     00:00.0|\n",
            "|             3|                1835| he    |8BE4D39F-EC59-4B2...|     00:00.0|\n",
            "|             3|                1961| zh-cht|2CB234A2-92D7-424...|     00:00.0|\n",
            "|             4|                1194| en    |A64FA151-2474-44A...|     00:00.0|\n",
            "|             4|                1463| ar    |0205CB4A-84D8-4C0...|     00:00.0|\n",
            "+--------------+--------------------+-------+--------------------+------------+\n",
            "only showing top 20 rows\n",
            "\n"
          ]
        }
      ]
    },
    {
      "cell_type": "code",
      "source": [
        "!wget 'https://raw.githubusercontent.com/Kiran-255666/AdventureWorks/main/AdventureWorksDW/dbo.DimCustomer.csv'"
      ],
      "metadata": {
        "colab": {
          "base_uri": "https://localhost:8080/"
        },
        "id": "ubDZBxOHNUHf",
        "outputId": "31ccf409-7e41-46c6-836d-d1e544d9d3b5"
      },
      "execution_count": null,
      "outputs": [
        {
          "output_type": "stream",
          "name": "stdout",
          "text": [
            "--2024-03-27 09:25:01--  https://raw.githubusercontent.com/Kiran-255666/AdventureWorks/main/AdventureWorksDW/dbo.DimCustomer.csv\n",
            "Resolving raw.githubusercontent.com (raw.githubusercontent.com)... 185.199.108.133, 185.199.109.133, 185.199.110.133, ...\n",
            "Connecting to raw.githubusercontent.com (raw.githubusercontent.com)|185.199.108.133|:443... connected.\n",
            "HTTP request sent, awaiting response... 200 OK\n",
            "Length: 4626603 (4.4M) [text/plain]\n",
            "Saving to: ‘dbo.DimCustomer.csv’\n",
            "\n",
            "dbo.DimCustomer.csv 100%[===================>]   4.41M  16.5MB/s    in 0.3s    \n",
            "\n",
            "2024-03-27 09:25:02 (16.5 MB/s) - ‘dbo.DimCustomer.csv’ saved [4626603/4626603]\n",
            "\n"
          ]
        }
      ]
    },
    {
      "cell_type": "code",
      "source": [
        "!wget 'https://raw.githubusercontent.com/Kiran-255666/AdventureWorks/main/AdventureWorksDW/dbo.DimProduct.csv'"
      ],
      "metadata": {
        "colab": {
          "base_uri": "https://localhost:8080/"
        },
        "id": "zblkA5J5OjKG",
        "outputId": "b75dd688-c924-481c-afc8-d31333214da8"
      },
      "execution_count": null,
      "outputs": [
        {
          "output_type": "stream",
          "name": "stdout",
          "text": [
            "--2024-03-27 09:27:03--  https://raw.githubusercontent.com/Kiran-255666/AdventureWorks/main/AdventureWorksDW/dbo.DimProduct.csv\n",
            "Resolving raw.githubusercontent.com (raw.githubusercontent.com)... 185.199.109.133, 185.199.111.133, 185.199.108.133, ...\n",
            "Connecting to raw.githubusercontent.com (raw.githubusercontent.com)|185.199.109.133|:443... connected.\n",
            "HTTP request sent, awaiting response... 200 OK\n",
            "Length: 9080744 (8.7M) [text/plain]\n",
            "Saving to: ‘dbo.DimProduct.csv’\n",
            "\n",
            "dbo.DimProduct.csv  100%[===================>]   8.66M  27.3MB/s    in 0.3s    \n",
            "\n",
            "2024-03-27 09:27:04 (27.3 MB/s) - ‘dbo.DimProduct.csv’ saved [9080744/9080744]\n",
            "\n"
          ]
        }
      ]
    },
    {
      "cell_type": "code",
      "source": [
        "schema_OrderDetail = 'SalesOrderID INTEGER, SalesOrderDetailID INTEGER, OrderQty INTEGER, ProductID INTEGER, UnitPrice FLOAT, UnitPriceDiscount FLOAT, LineTotal FLOAT'\n",
        "df = spark.read.csv('SalesOrderDetail.csv', header=True, inferSchema=True)\n",
        "print(\"SalesOrderDetail.CSV\")\n",
        "#!wget 'https://raw.githubusercontent.com/Kiran-255666/AdventureWorks/main/Adventureworks/Product.csv'\n",
        "df.printSchema()\n",
        "df.show()\n",
        "\n",
        "#create view in order to show the product and amount using the specific order ID\n",
        "df.createOrReplaceTempView(\"SalesOrderView\")\n",
        "df.select(\"SalesOrderID\", \"SalesOrderDetailID\", \"ProductID\", \"LineTotal\").where(\"SalesOrderID == '71774'\").show()"
      ],
      "metadata": {
        "colab": {
          "base_uri": "https://localhost:8080/"
        },
        "id": "IbCWGpOVMZdx",
        "outputId": "8a9c8770-1570-42b5-994c-7c636f3f5ed4"
      },
      "execution_count": null,
      "outputs": [
        {
          "output_type": "stream",
          "name": "stdout",
          "text": [
            "SalesOrderDetail.CSV\n",
            "root\n",
            " |-- SalesOrderID: integer (nullable = true)\n",
            " |-- SalesOrderDetailID: integer (nullable = true)\n",
            " |-- OrderQty: integer (nullable = true)\n",
            " |-- ProductID: integer (nullable = true)\n",
            " |-- UnitPrice: double (nullable = true)\n",
            " |-- UnitPriceDiscount: double (nullable = true)\n",
            " |-- LineTotal: double (nullable = true)\n",
            " |-- rowguid: string (nullable = true)\n",
            " |-- ModifiedDate: string (nullable = true)\n",
            "\n",
            "+------------+------------------+--------+---------+---------+-----------------+---------+--------------------+------------+\n",
            "|SalesOrderID|SalesOrderDetailID|OrderQty|ProductID|UnitPrice|UnitPriceDiscount|LineTotal|             rowguid|ModifiedDate|\n",
            "+------------+------------------+--------+---------+---------+-----------------+---------+--------------------+------------+\n",
            "|       71774|            110562|       1|      836|  356.898|              0.0|  356.898|E3A1994C-7A68-4CE...|     00:00.0|\n",
            "|       71774|            110563|       1|      822|  356.898|              0.0|  356.898|5C77F557-FDB6-43B...|     00:00.0|\n",
            "|       71776|            110567|       1|      907|     63.9|              0.0|     63.9|6DBFE398-D15D-425...|     00:00.0|\n",
            "|       71780|            110616|       4|      905|  218.454|              0.0|  873.816|377246C9-4483-48E...|     00:00.0|\n",
            "|       71780|            110617|       2|      983|  461.694|              0.0|  923.388|43A54BCD-536D-4A1...|     00:00.0|\n",
            "|       71780|            110618|       6|      988|  112.998|              0.4| 406.7928|12706FAB-F3A2-48C...|     00:00.0|\n",
            "|       71780|            110619|       2|      748|    818.7|              0.0|   1637.4|B12F0D3B-5B4E-4F1...|     00:00.0|\n",
            "|       71780|            110620|       1|      990|  323.994|              0.0|  323.994|F117A449-039D-44B...|     00:00.0|\n",
            "|       71780|            110621|       1|      926|  149.874|              0.0|  149.874|92E5052B-72D0-4C9...|     00:00.0|\n",
            "|       71780|            110622|       1|      743|   809.76|              0.0|   809.76|8BD33BED-C4F6-4D4...|     00:00.0|\n",
            "|       71780|            110623|       4|      782| 1376.994|              0.0| 5507.976|686999FB-42E6-4D0...|     00:00.0|\n",
            "|       71780|            110624|       2|      918|   158.43|              0.0|   316.86|82940B03-C70B-418...|     00:00.0|\n",
            "|       71780|            110625|       4|      780| 1391.994|              0.0| 5567.976|644B0CD6-B2C3-4E4...|     00:00.0|\n",
            "|       71780|            110626|       1|      937|   48.594|              0.0|   48.594|7F5FEB17-8EF4-423...|     00:00.0|\n",
            "|       71780|            110627|       6|      867|   41.994|              0.0|  251.964|AC78838D-B503-41A...|     00:00.0|\n",
            "|       71780|            110628|       1|      985|  112.998|              0.4|  67.7988|2C10A282-A13D-442...|     00:00.0|\n",
            "|       71780|            110629|       2|      989|  323.994|              0.0|  647.988|654FB79E-70DF-4B9...|     00:00.0|\n",
            "|       71780|            110630|       3|      991|  323.994|              0.0|  971.982|3D6CA7AB-055E-453...|     00:00.0|\n",
            "|       71780|            110631|       1|      992|  323.994|              0.0|  323.994|560FEEE1-DD54-4C3...|     00:00.0|\n",
            "|       71780|            110632|       2|      993|  323.994|              0.0|  647.988|19570052-4023-465...|     00:00.0|\n",
            "+------------+------------------+--------+---------+---------+-----------------+---------+--------------------+------------+\n",
            "only showing top 20 rows\n",
            "\n",
            "+------------+------------------+---------+---------+\n",
            "|SalesOrderID|SalesOrderDetailID|ProductID|LineTotal|\n",
            "+------------+------------------+---------+---------+\n",
            "|       71774|            110562|      836|  356.898|\n",
            "|       71774|            110563|      822|  356.898|\n",
            "+------------+------------------+---------+---------+\n",
            "\n"
          ]
        }
      ]
    },
    {
      "cell_type": "code",
      "source": [
        "#schema_OrderDetail = 'SalesOrderID INTEGER, SalesOrderDetailID INTEGER, OrderQty INTEGER, ProductID INTEGER, UnitPrice FLOAT, UnitPriceDiscount FLOAT, LineTotal FLOAT'\n",
        "df = spark.read.csv('dbo.DimCustomer.csv', header=True, inferSchema=True)\n",
        "print(\"dbo.DimCustomer.csv\")\n",
        "df.show()"
      ],
      "metadata": {
        "colab": {
          "base_uri": "https://localhost:8080/"
        },
        "id": "aeP_5UL2PA4W",
        "outputId": "f58ec37b-e745-4b6c-c615-2261b2e824d5"
      },
      "execution_count": null,
      "outputs": [
        {
          "output_type": "stream",
          "name": "stdout",
          "text": [
            "dbo.DimCustomer.csv\n",
            "+-----------+------------+--------------------+-----+---------+----------+--------+---------+----------+-------------+------+------+--------------------+------------+-------------+--------------------+----------------+--------------------+---------------+-----------------+--------------------+----------------+--------------+---------------+--------------------+------------+-------------------+-----------------+---------------+\n",
            "|CustomerKey|GeographyKey|CustomerAlternateKey|Title|FirstName|MiddleName|LastName|NameStyle| BirthDate|MaritalStatus|Suffix|Gender|        EmailAddress|YearlyIncome|TotalChildren|NumberChildrenAtHome|EnglishEducation|    SpanishEducation|FrenchEducation|EnglishOccupation|   SpanishOccupation|FrenchOccupation|HouseOwnerFlag|NumberCarsOwned|        AddressLine1|AddressLine2|              Phone|DateFirstPurchase|CommuteDistance|\n",
            "+-----------+------------+--------------------+-----+---------+----------+--------+---------+----------+-------------+------+------+--------------------+------------+-------------+--------------------+----------------+--------------------+---------------+-----------------+--------------------+----------------+--------------+---------------+--------------------+------------+-------------------+-----------------+---------------+\n",
            "|      11000|          26|          AW00011000| NULL|      Jon|         V|    Yang|        0|08-04-1966|            M|  NULL|     M|jon24@adventure-w...|       90000|            2|                   0|       Bachelors|        Licenciatura|        Bac + 4|     Professional|         Profesional|           Cadre|             1|              0|     3761 N. 14th St|        NULL|1 (11) 500 555-0162|       22-07-2005|      1-2 Miles|\n",
            "|      11001|          37|          AW00011001| NULL|   Eugene|         L|   Huang|        0|14-05-1965|            S|  NULL|     M|eugene10@adventur...|       60000|            3|                   3|       Bachelors|        Licenciatura|        Bac + 4|     Professional|         Profesional|           Cadre|             0|              1|          2243 W St.|        NULL|1 (11) 500 555-0110|       18-07-2005|      0-1 Miles|\n",
            "|      11002|          31|          AW00011002| NULL|    Ruben|      NULL|  Torres|        0|12-08-1965|            M|  NULL|     M|ruben35@adventure...|       60000|            3|                   3|       Bachelors|        Licenciatura|        Bac + 4|     Professional|         Profesional|           Cadre|             1|              1|    5844 Linden Land|        NULL|1 (11) 500 555-0184|       10-07-2005|      2-5 Miles|\n",
            "|      11003|          11|          AW00011003| NULL|  Christy|      NULL|     Zhu|        0|15-02-1968|            S|  NULL|     F|christy12@adventu...|       70000|            0|                   0|       Bachelors|        Licenciatura|        Bac + 4|     Professional|         Profesional|           Cadre|             0|              1|    1825 Village Pl.|        NULL|1 (11) 500 555-0162|       01-07-2005|     5-10 Miles|\n",
            "|      11004|          19|          AW00011004| NULL|Elizabeth|      NULL| Johnson|        0|08-08-1968|            S|  NULL|     F|elizabeth5@advent...|       80000|            5|                   5|       Bachelors|        Licenciatura|        Bac + 4|     Professional|         Profesional|           Cadre|             1|              4| 7553 Harness Circle|        NULL|1 (11) 500 555-0131|       26-07-2005|      1-2 Miles|\n",
            "|      11005|          22|          AW00011005| NULL|    Julio|      NULL|    Ruiz|        0|05-08-1965|            S|  NULL|     M|julio1@adventure-...|       70000|            0|                   0|       Bachelors|        Licenciatura|        Bac + 4|     Professional|         Profesional|           Cadre|             1|              1| 7305 Humphrey Drive|        NULL|1 (11) 500 555-0151|       02-07-2005|     5-10 Miles|\n",
            "|      11006|           8|          AW00011006| NULL|    Janet|         G| Alvarez|        0|06-12-1965|            S|  NULL|     F|janet9@adventure-...|       70000|            0|                   0|       Bachelors|        Licenciatura|        Bac + 4|     Professional|         Profesional|           Cadre|             1|              1|       2612 Berry Dr|        NULL|1 (11) 500 555-0184|       27-07-2005|     5-10 Miles|\n",
            "|      11007|          40|          AW00011007| NULL|    Marco|      NULL|   Mehta|        0|09-05-1964|            M|  NULL|     M|marco14@adventure...|       60000|            3|                   3|       Bachelors|        Licenciatura|        Bac + 4|     Professional|         Profesional|           Cadre|             1|              2|    942 Brook Street|        NULL|1 (11) 500 555-0126|       12-07-2005|      0-1 Miles|\n",
            "|      11008|          32|          AW00011008| NULL|      Rob|      NULL| Verhoff|        0|07-07-1964|            S|  NULL|     F|rob4@adventure-wo...|       60000|            4|                   4|       Bachelors|        Licenciatura|        Bac + 4|     Professional|         Profesional|           Cadre|             1|              3|    624 Peabody Road|        NULL|1 (11) 500 555-0164|       28-07-2005|      10+ Miles|\n",
            "|      11009|          25|          AW00011009| NULL|  Shannon|         C| Carlson|        0|01-04-1964|            S|  NULL|     M|shannon38@adventu...|       70000|            0|                   0|       Bachelors|        Licenciatura|        Bac + 4|     Professional|         Profesional|           Cadre|             0|              1| 3839 Northgate Road|        NULL|1 (11) 500 555-0110|       30-07-2005|     5-10 Miles|\n",
            "|      11010|          22|          AW00011010| NULL|Jacquelyn|         C|  Suarez|        0|06-02-1964|            S|  NULL|     F|jacquelyn20@adven...|       70000|            0|                   0|       Bachelors|        Licenciatura|        Bac + 4|     Professional|         Profesional|           Cadre|             0|              1| 7800 Corrinne Court|        NULL|1 (11) 500 555-0169|       17-07-2005|     5-10 Miles|\n",
            "|      11011|          22|          AW00011011| NULL|   Curtis|      NULL|      Lu|        0|04-11-1963|            M|  NULL|     M|curtis9@adventure...|       60000|            4|                   4|       Bachelors|        Licenciatura|        Bac + 4|     Professional|         Profesional|           Cadre|             1|              4|        1224 Shoenic|        NULL|1 (11) 500 555-0117|       02-07-2005|      10+ Miles|\n",
            "|      11012|         611|          AW00011012| NULL|   Lauren|         M|  Walker|        0|18-01-1968|            M|  NULL|     F|lauren41@adventur...|      100000|            2|                   0|       Bachelors|        Licenciatura|        Bac + 4|       Management|             Gesti�n|       Direction|             1|              2|   4785 Scott Street|        NULL|       717-555-0164|       17-09-2007|      1-2 Miles|\n",
            "|      11013|         543|          AW00011013| NULL|      Ian|         M| Jenkins|        0|06-08-1968|            M|  NULL|     M|ian47@adventure-w...|      100000|            2|                   0|       Bachelors|        Licenciatura|        Bac + 4|       Management|             Gesti�n|       Direction|             1|              3|    7902 Hudson Ave.|        NULL|       817-555-0185|       15-10-2007|      0-1 Miles|\n",
            "|      11014|         634|          AW00011014| NULL|   Sydney|      NULL| Bennett|        0|09-05-1968|            S|  NULL|     F|sydney23@adventur...|      100000|            3|                   0|       Bachelors|        Licenciatura|        Bac + 4|       Management|             Gesti�n|       Direction|             0|              3|     9011 Tank Drive|        NULL|       431-555-0156|       24-09-2007|      1-2 Miles|\n",
            "|      11015|         301|          AW00011015| NULL|    Chloe|      NULL|   Young|        0|27-02-1979|            S|  NULL|     F|chloe23@adventure...|       30000|            0|                   0| Partial College|Estudios universi...|   Baccalaur�at|   Skilled Manual|Obrero especializado|      Technicien|             0|              1|244 Willow Pass Road|        NULL|       208-555-0142|       22-07-2007|     5-10 Miles|\n",
            "|      11016|         329|          AW00011016| NULL|    Wyatt|         L|    Hill|        0|28-04-1979|            M|  NULL|     M|wyatt32@adventure...|       30000|            0|                   0| Partial College|Estudios universi...|   Baccalaur�at|   Skilled Manual|Obrero especializado|      Technicien|             1|              1| 9666 Northridge Ct.|        NULL|       135-555-0171|       13-08-2007|     5-10 Miles|\n",
            "|      11017|          39|          AW00011017| NULL|  Shannon|      NULL|    Wang|        0|26-06-1944|            S|  NULL|     F|shannon1@adventur...|       20000|            4|                   0|     High School|Educaci�n secundaria|        Bac + 2|   Skilled Manual|Obrero especializado|      Technicien|             1|              2|7330 Saddlehill Lane|        NULL|1 (11) 500 555-0195|       15-07-2005|     5-10 Miles|\n",
            "|      11018|          32|          AW00011018| NULL| Clarence|         D|     Rai|        0|09-10-1944|            S|  NULL|     M|clarence32@advent...|       30000|            2|                   0| Partial College|Estudios universi...|   Baccalaur�at|         Clerical|      Administrativo|         Employ�|             1|              2|       244 Rivewview|        NULL|1 (11) 500 555-0137|       20-07-2005|     5-10 Miles|\n",
            "|      11019|          52|          AW00011019| NULL|     Luke|         L|     Lal|        0|07-03-1978|            S|  NULL|     M|luke18@adventure-...|       40000|            0|                   0|     High School|Educaci�n secundaria|        Bac + 2|   Skilled Manual|Obrero especializado|      Technicien|             0|              2|     7832 Landing Dr|        NULL|       262-555-0112|       16-08-2007|     5-10 Miles|\n",
            "+-----------+------------+--------------------+-----+---------+----------+--------+---------+----------+-------------+------+------+--------------------+------------+-------------+--------------------+----------------+--------------------+---------------+-----------------+--------------------+----------------+--------------+---------------+--------------------+------------+-------------------+-----------------+---------------+\n",
            "only showing top 20 rows\n",
            "\n"
          ]
        }
      ]
    },
    {
      "cell_type": "code",
      "source": [
        "df = spark.read.csv('dbo.DimProduct.csv', header=True, inferSchema=True)\n",
        "print(\"dbo.DimProduct.csv\")\n",
        "df.printSchema()\n",
        "df.show()"
      ],
      "metadata": {
        "colab": {
          "base_uri": "https://localhost:8080/"
        },
        "id": "AzlDGMkoSDAF",
        "outputId": "1edaf38a-14c7-40f3-d629-1d5aaee43ab7"
      },
      "execution_count": null,
      "outputs": [
        {
          "output_type": "stream",
          "name": "stdout",
          "text": [
            "dbo.DimProduct.csv\n",
            "root\n",
            " |-- ProductKey: string (nullable = true)\n",
            " |-- ProductAlternateKey: string (nullable = true)\n",
            " |-- ProductSubcategoryKey: string (nullable = true)\n",
            " |-- WeightUnitMeasureCode: string (nullable = true)\n",
            " |-- SizeUnitMeasureCode: string (nullable = true)\n",
            " |-- EnglishProductName: string (nullable = true)\n",
            " |-- SpanishProductName: string (nullable = true)\n",
            " |-- FrenchProductName: string (nullable = true)\n",
            " |-- StandardCost: string (nullable = true)\n",
            " |-- FinishedGoodsFlag: string (nullable = true)\n",
            " |-- Color: string (nullable = true)\n",
            " |-- SafetyStockLevel: string (nullable = true)\n",
            " |-- ReorderPoint: string (nullable = true)\n",
            " |-- ListPrice: string (nullable = true)\n",
            " |-- Size: string (nullable = true)\n",
            " |-- SizeRange: string (nullable = true)\n",
            " |-- Weight: string (nullable = true)\n",
            " |-- DaysToManufacture: integer (nullable = true)\n",
            " |-- ProductLine: string (nullable = true)\n",
            " |-- DealerPrice: string (nullable = true)\n",
            " |-- Class: string (nullable = true)\n",
            " |-- Style: string (nullable = true)\n",
            " |-- ModelName: string (nullable = true)\n",
            " |-- LargePhoto: string (nullable = true)\n",
            " |-- EnglishDescription: string (nullable = true)\n",
            " |-- FrenchDescription: string (nullable = true)\n",
            " |-- ChineseDescription: string (nullable = true)\n",
            " |-- ArabicDescription: string (nullable = true)\n",
            " |-- HebrewDescription: string (nullable = true)\n",
            " |-- ThaiDescription: string (nullable = true)\n",
            " |-- GermanDescription: string (nullable = true)\n",
            " |-- JapaneseDescription: string (nullable = true)\n",
            " |-- TurkishDescription: string (nullable = true)\n",
            " |-- StartDate: string (nullable = true)\n",
            " |-- EndDate: string (nullable = true)\n",
            " |-- Status: string (nullable = true)\n",
            "\n",
            "+----------+-------------------+---------------------+---------------------+-------------------+--------------------+------------------+-----------------+------------+-----------------+------+----------------+------------+---------+----+---------+------+-----------------+-----------+-----------+-----+-----+---------+--------------------+------------------+-----------------+------------------+-----------------+-----------------+---------------+-----------------+-------------------+------------------+---------+-------+-------+\n",
            "|ProductKey|ProductAlternateKey|ProductSubcategoryKey|WeightUnitMeasureCode|SizeUnitMeasureCode|  EnglishProductName|SpanishProductName|FrenchProductName|StandardCost|FinishedGoodsFlag| Color|SafetyStockLevel|ReorderPoint|ListPrice|Size|SizeRange|Weight|DaysToManufacture|ProductLine|DealerPrice|Class|Style|ModelName|          LargePhoto|EnglishDescription|FrenchDescription|ChineseDescription|ArabicDescription|HebrewDescription|ThaiDescription|GermanDescription|JapaneseDescription|TurkishDescription|StartDate|EndDate| Status|\n",
            "+----------+-------------------+---------------------+---------------------+-------------------+--------------------+------------------+-----------------+------------+-----------------+------+----------------+------------+---------+----+---------+------+-----------------+-----------+-----------+-----+-----+---------+--------------------+------------------+-----------------+------------------+-----------------+-----------------+---------------+-----------------+-------------------+------------------+---------+-------+-------+\n",
            "|         1|            AR-5381|                 NULL|                 NULL|               NULL|     Adjustable Race|              NULL|             NULL|        NULL|                0|    NA|            1000|         750|     NULL|NULL|       NA|  NULL|                0|       NULL|       NULL| NULL| NULL|     NULL|0x474946383961F00...|              NULL|             NULL|              NULL|             NULL|             NULL|           NULL|             NULL|               NULL|              NULL|  00:00.0|   NULL|Current|\n",
            "|         2|            BA-8327|                 NULL|                 NULL|               NULL|        Bearing Ball|              NULL|             NULL|        NULL|                0|    NA|            1000|         750|     NULL|NULL|       NA|  NULL|                0|       NULL|       NULL| NULL| NULL|     NULL|0x474946383961F00...|              NULL|             NULL|              NULL|             NULL|             NULL|           NULL|             NULL|               NULL|              NULL|  00:00.0|   NULL|Current|\n",
            "|         3|            BE-2349|                 NULL|                 NULL|               NULL|     BB Ball Bearing|              NULL|             NULL|        NULL|                0|    NA|             800|         600|     NULL|NULL|       NA|  NULL|                1|       NULL|       NULL| NULL| NULL|     NULL|0x474946383961F00...|              NULL|             NULL|              NULL|             NULL|             NULL|           NULL|             NULL|               NULL|              NULL|  00:00.0|   NULL|Current|\n",
            "|         4|            BE-2908|                 NULL|                 NULL|               NULL|Headset Ball Bear...|              NULL|             NULL|        NULL|                0|    NA|             800|         600|     NULL|NULL|       NA|  NULL|                0|       NULL|       NULL| NULL| NULL|     NULL|0x474946383961F00...|              NULL|             NULL|              NULL|             NULL|             NULL|           NULL|             NULL|               NULL|              NULL|  00:00.0|   NULL|Current|\n",
            "|         5|            BL-2036|                 NULL|                 NULL|               NULL|               Blade|              NULL|             NULL|        NULL|                0|    NA|             800|         600|     NULL|NULL|       NA|  NULL|                1|       NULL|       NULL| NULL| NULL|     NULL|0x474946383961F00...|              NULL|             NULL|              NULL|             NULL|             NULL|           NULL|             NULL|               NULL|              NULL|  00:00.0|   NULL|Current|\n",
            "|         6|            CA-5965|                 NULL|                 NULL|               NULL|         LL Crankarm|              NULL|             NULL|        NULL|                0| Black|             500|         375|     NULL|NULL|       NA|  NULL|                0|       NULL|       NULL|   L | NULL|     NULL|0x474946383961F00...|              NULL|             NULL|              NULL|             NULL|             NULL|           NULL|             NULL|               NULL|              NULL|  00:00.0|   NULL|Current|\n",
            "|         7|            CA-6738|                 NULL|                 NULL|               NULL|         ML Crankarm|              NULL|             NULL|        NULL|                0| Black|             500|         375|     NULL|NULL|       NA|  NULL|                0|       NULL|       NULL|   M | NULL|     NULL|0x474946383961F00...|              NULL|             NULL|              NULL|             NULL|             NULL|           NULL|             NULL|               NULL|              NULL|  00:00.0|   NULL|Current|\n",
            "|         8|            CA-7457|                 NULL|                 NULL|               NULL|         HL Crankarm|              NULL|             NULL|        NULL|                0| Black|             500|         375|     NULL|NULL|       NA|  NULL|                0|       NULL|       NULL| NULL| NULL|     NULL|0x474946383961F00...|              NULL|             NULL|              NULL|             NULL|             NULL|           NULL|             NULL|               NULL|              NULL|  00:00.0|   NULL|Current|\n",
            "|         9|            CB-2903|                 NULL|                 NULL|               NULL|     Chainring Bolts|              NULL|             NULL|        NULL|                0|Silver|            1000|         750|     NULL|NULL|       NA|  NULL|                0|       NULL|       NULL| NULL| NULL|     NULL|0x474946383961F00...|              NULL|             NULL|              NULL|             NULL|             NULL|           NULL|             NULL|               NULL|              NULL|  00:00.0|   NULL|Current|\n",
            "|        10|            CN-6137|                 NULL|                 NULL|               NULL|       Chainring Nut|              NULL|             NULL|        NULL|                0|Silver|            1000|         750|     NULL|NULL|       NA|  NULL|                0|       NULL|       NULL| NULL| NULL|     NULL|0x474946383961F00...|              NULL|             NULL|              NULL|             NULL|             NULL|           NULL|             NULL|               NULL|              NULL|  00:00.0|   NULL|Current|\n",
            "|        11|            CR-7833|                 NULL|                 NULL|               NULL|           Chainring|              NULL|             NULL|        NULL|                0| Black|            1000|         750|     NULL|NULL|       NA|  NULL|                0|       NULL|       NULL| NULL| NULL|     NULL|0x474946383961F00...|              NULL|             NULL|              NULL|             NULL|             NULL|           NULL|             NULL|               NULL|              NULL|  00:00.0|   NULL|Current|\n",
            "|        12|            CR-9981|                 NULL|                 NULL|               NULL|          Crown Race|              NULL|             NULL|        NULL|                0|    NA|            1000|         750|     NULL|NULL|       NA|  NULL|                0|       NULL|       NULL| NULL| NULL|     NULL|0x474946383961F00...|              NULL|             NULL|              NULL|             NULL|             NULL|           NULL|             NULL|               NULL|              NULL|  00:00.0|   NULL|Current|\n",
            "|        13|            CS-2812|                 NULL|                 NULL|               NULL|         Chain Stays|              NULL|             NULL|        NULL|                0|    NA|            1000|         750|     NULL|NULL|       NA|  NULL|                1|       NULL|       NULL| NULL| NULL|     NULL|0x474946383961F00...|              NULL|             NULL|              NULL|             NULL|             NULL|           NULL|             NULL|               NULL|              NULL|  00:00.0|   NULL|Current|\n",
            "|        14|            DC-8732|                 NULL|                 NULL|               NULL|             Decal 1|              NULL|             NULL|        NULL|                0|    NA|            1000|         750|     NULL|NULL|       NA|  NULL|                0|       NULL|       NULL| NULL| NULL|     NULL|0x474946383961F00...|              NULL|             NULL|              NULL|             NULL|             NULL|           NULL|             NULL|               NULL|              NULL|  00:00.0|   NULL|Current|\n",
            "|        15|            DC-9824|                 NULL|                 NULL|               NULL|             Decal 2|              NULL|             NULL|        NULL|                0|    NA|            1000|         750|     NULL|NULL|       NA|  NULL|                0|       NULL|       NULL| NULL| NULL|     NULL|0x474946383961F00...|              NULL|             NULL|              NULL|             NULL|             NULL|           NULL|             NULL|               NULL|              NULL|  00:00.0|   NULL|Current|\n",
            "|        16|            DT-2377|                 NULL|                 NULL|               NULL|           Down Tube|              NULL|             NULL|        NULL|                0|    NA|             800|         600|     NULL|NULL|       NA|  NULL|                1|       NULL|       NULL| NULL| NULL|     NULL|0x474946383961F00...|              NULL|             NULL|              NULL|             NULL|             NULL|           NULL|             NULL|               NULL|              NULL|  00:00.0|   NULL|Current|\n",
            "|        17|            EC-M092|                 NULL|                 NULL|               NULL|   Mountain End Caps|              NULL|             NULL|        NULL|                0|    NA|            1000|         750|     NULL|NULL|       NA|  NULL|                1|       NULL|       NULL| NULL| NULL|     NULL|0x474946383961F00...|              NULL|             NULL|              NULL|             NULL|             NULL|           NULL|             NULL|               NULL|              NULL|  00:00.0|   NULL|Current|\n",
            "|        18|            EC-R098|                 NULL|                 NULL|               NULL|       Road End Caps|              NULL|             NULL|        NULL|                0|    NA|            1000|         750|     NULL|NULL|       NA|  NULL|                1|       NULL|       NULL| NULL| NULL|     NULL|0x474946383961F00...|              NULL|             NULL|              NULL|             NULL|             NULL|           NULL|             NULL|               NULL|              NULL|  00:00.0|   NULL|Current|\n",
            "|        19|            EC-T209|                 NULL|                 NULL|               NULL|    Touring End Caps|              NULL|             NULL|        NULL|                0|    NA|            1000|         750|     NULL|NULL|       NA|  NULL|                1|       NULL|       NULL| NULL| NULL|     NULL|0x474946383961F00...|              NULL|             NULL|              NULL|             NULL|             NULL|           NULL|             NULL|               NULL|              NULL|  00:00.0|   NULL|Current|\n",
            "|        20|            FE-3760|                 NULL|                 NULL|               NULL|            Fork End|              NULL|             NULL|        NULL|                0|    NA|             800|         600|     NULL|NULL|       NA|  NULL|                1|       NULL|       NULL| NULL| NULL|     NULL|0x474946383961F00...|              NULL|             NULL|              NULL|             NULL|             NULL|           NULL|             NULL|               NULL|              NULL|  00:00.0|   NULL|Current|\n",
            "+----------+-------------------+---------------------+---------------------+-------------------+--------------------+------------------+-----------------+------------+-----------------+------+----------------+------------+---------+----+---------+------+-----------------+-----------+-----------+-----+-----+---------+--------------------+------------------+-----------------+------------------+-----------------+-----------------+---------------+-----------------+-------------------+------------------+---------+-------+-------+\n",
            "only showing top 20 rows\n",
            "\n"
          ]
        }
      ]
    },
    {
      "cell_type": "code",
      "source": [
        "# U003 - Using the SalesOrderID, retrieve delivery date or ship date\n",
        "\n",
        "# Below is to show SalesOderHeader database\n",
        "df = spark.read.csv('SalesOrderHeader.csv', header=True, inferSchema=True)\n",
        "print(\"SalesOrderHeader.CSV\")\n",
        "df.printSchema()\n",
        "df.show()\n",
        "\n",
        "#create view in order to show the order date, status and shipDate using the specific order ID\n",
        "df.createOrReplaceTempView(\"SalesOrderHeader\")\n",
        "df.select(\"SalesOrderID\", \"OrderDate\", \"Status\", \"ShipDate\").where(\"SalesOrderID == '71774'\").show()"
      ],
      "metadata": {
        "colab": {
          "base_uri": "https://localhost:8080/"
        },
        "id": "ORBsR_kOSvPx",
        "outputId": "e3f2dc4b-bcd0-4d83-aaf0-41d66b4e7543"
      },
      "execution_count": null,
      "outputs": [
        {
          "output_type": "stream",
          "name": "stdout",
          "text": [
            "SalesOrderHeader.CSV\n",
            "root\n",
            " |-- SalesOrderID: integer (nullable = true)\n",
            " |-- RevisionNumber: integer (nullable = true)\n",
            " |-- OrderDate: string (nullable = true)\n",
            " |-- DueDate: string (nullable = true)\n",
            " |-- ShipDate: string (nullable = true)\n",
            " |-- Status: integer (nullable = true)\n",
            " |-- OnlineOrderFlag: integer (nullable = true)\n",
            " |-- SalesOrderNumber: string (nullable = true)\n",
            " |-- PurchaseOrderNumber: string (nullable = true)\n",
            " |-- AccountNumber: string (nullable = true)\n",
            " |-- CustomerID: integer (nullable = true)\n",
            " |-- ShipToAddressID: integer (nullable = true)\n",
            " |-- BillToAddressID: integer (nullable = true)\n",
            " |-- ShipMethod: string (nullable = true)\n",
            " |-- CreditCardApprovalCode: string (nullable = true)\n",
            " |-- SubTotal: double (nullable = true)\n",
            " |-- TaxAmt: double (nullable = true)\n",
            " |-- Freight: double (nullable = true)\n",
            " |-- TotalDue: double (nullable = true)\n",
            " |-- Comment: string (nullable = true)\n",
            " |-- rowguid: string (nullable = true)\n",
            " |-- ModifiedDate: string (nullable = true)\n",
            "\n",
            "+------------+--------------+---------+-------+--------+------+---------------+----------------+-------------------+--------------+----------+---------------+---------------+-----------------+----------------------+-----------+---------+---------+----------+-------+--------------------+------------+\n",
            "|SalesOrderID|RevisionNumber|OrderDate|DueDate|ShipDate|Status|OnlineOrderFlag|SalesOrderNumber|PurchaseOrderNumber| AccountNumber|CustomerID|ShipToAddressID|BillToAddressID|       ShipMethod|CreditCardApprovalCode|   SubTotal|   TaxAmt|  Freight|  TotalDue|Comment|             rowguid|ModifiedDate|\n",
            "+------------+--------------+---------+-------+--------+------+---------------+----------------+-------------------+--------------+----------+---------------+---------------+-----------------+----------------------+-----------+---------+---------+----------+-------+--------------------+------------+\n",
            "|       71774|             2|  00:00.0|00:00.0| 00:00.0|     5|              0|         SO71774|        PO348186287|10-4020-000609|     29847|           1092|           1092|CARGO TRANSPORT 5|                  NULL|   880.3484|  70.4279|  22.0087|   972.785|   NULL|89E42CDC-8506-48A...|     00:00.0|\n",
            "|       71776|             2|  00:00.0|00:00.0| 00:00.0|     2|              0|         SO71776|      PO19952192051|10-4020-000106|     30072|            640|            640|CARGO TRANSPORT 5|                  NULL|      78.81|   6.3048|   1.9703|   87.0851|   NULL|8A3448C5-E677-415...|     00:00.0|\n",
            "|       71780|             2|  00:00.0|00:00.0| 00:00.0|     1|              0|         SO71780|      PO19604173239|10-4020-000340|     30113|            653|            653|CARGO TRANSPORT 5|                  NULL| 38418.6895|3073.4952| 960.4672|42452.6519|   NULL|A47665D2-7AC9-4CF...|     00:00.0|\n",
            "|       71782|             2|  00:00.0|00:00.0| 00:00.0|     3|              0|         SO71782|      PO19372114749|10-4020-000582|     29485|           1086|           1086|CARGO TRANSPORT 5|                  NULL| 39785.3304|3182.8264| 994.6333|43962.7901|   NULL|F1BE45A5-5C57-4A5...|     00:00.0|\n",
            "|       71783|             2|  00:00.0|00:00.0| 00:00.0|     4|              0|         SO71783|      PO19343113609|10-4020-000024|     29957|            992|            992|CARGO TRANSPORT 5|                  NULL| 83858.4261|6708.6741|2096.4607|92663.5609|   NULL|7DB2329E-6446-42A...|     00:00.0|\n",
            "|       71784|             2|  00:00.0|00:00.0| 00:00.0|     5|              0|         SO71784|      PO19285135919|10-4020-000448|     29736|            659|            659|CARGO TRANSPORT 5|                  NULL|108561.8317|8684.9465|2714.0458|119960.824|   NULL|CA31F324-2C32-4F8...|     00:00.0|\n",
            "|       71796|             2|  00:00.0|00:00.0| 00:00.0|     2|              0|         SO71796|      PO17052159664|10-4020-000420|     29660|           1058|           1058|CARGO TRANSPORT 5|                  NULL| 57634.6342|4610.7707|1440.8659|63686.2708|   NULL|917EF5BA-F32D-456...|     00:00.0|\n",
            "|       71797|             2|  00:00.0|00:00.0| 00:00.0|     3|              0|         SO71797|      PO16501134889|10-4020-000142|     29796|            642|            642|CARGO TRANSPORT 5|                  NULL| 78029.6898|6242.3752|1950.7422|86222.8072|   NULL|BB3FEE84-C8BF-4DD...|     00:00.0|\n",
            "|       71815|             2|  00:00.0|00:00.0| 00:00.0|     1|              0|         SO71815|      PO13021155785|10-4020-000276|     30089|           1034|           1034|CARGO TRANSPORT 5|                  NULL|  1141.5782|  91.3263|  28.5395|  1261.444|   NULL|2AA5F39B-1096-4A4...|     00:00.0|\n",
            "|       71816|             2|  00:00.0|00:00.0| 00:00.0|     2|              0|         SO71816|      PO12992180445|10-4020-000295|     30027|           1038|           1038|CARGO TRANSPORT 5|                  NULL|  3398.1659| 271.8533|  84.9541| 3754.9733|   NULL|E3C189E7-98DE-4C4...|     00:00.0|\n",
            "|       71831|             2|  00:00.0|00:00.0| 00:00.0|     2|              0|         SO71831|      PO10295111084|10-4020-000322|     30019|            652|            652|CARGO TRANSPORT 5|                  NULL|  2016.3408| 161.3073|  50.4085| 2228.0566|   NULL|625D76FC-C26F-414...|     00:00.0|\n",
            "|       71832|             2|  00:00.0|00:00.0| 00:00.0|     3|              0|         SO71832|      PO10353140756|10-4020-000088|     29922|            639|            639|CARGO TRANSPORT 5|                  NULL| 35775.2113|2862.0169| 894.3803|39531.6085|   NULL|ADDB8620-432A-456...|     00:00.0|\n",
            "|       71845|             2|  00:00.0|00:00.0| 00:00.0|     1|              0|         SO71845|       PO2697119362|10-4020-000187|     29938|           1020|           1020|CARGO TRANSPORT 5|                  NULL| 41622.0511|3329.7641|1040.5513|45992.3665|   NULL|E68F7EE9-C581-45C...|     00:00.0|\n",
            "|       71846|             2|  00:00.0|00:00.0| 00:00.0|     2|              0|         SO71846|       PO2378131604|10-4020-000635|     30102|            669|            669|CARGO TRANSPORT 5|                  NULL|  2453.7645| 196.3012|  61.3441| 2711.4098|   NULL|A86D90AD-D1C0-440...|     00:00.0|\n",
            "|       71856|             2|  00:00.0|00:00.0| 00:00.0|     2|              0|         SO71856|      PO16530177647|10-4020-000601|     30033|           1090|           1090|CARGO TRANSPORT 5|                  NULL|   602.1946|  48.1756|  15.0549|  665.4251|   NULL|05FEE073-0640-4A3...|     00:00.0|\n",
            "|       71858|             2|  00:00.0|00:00.0| 00:00.0|     4|              0|         SO71858|      PO16153112278|10-4020-000186|     29653|           1019|           1019|CARGO TRANSPORT 5|                  NULL| 13823.7083|1105.8967| 345.5927|15275.1977|   NULL|5EF091E1-A0AF-437...|     00:00.0|\n",
            "|       71863|             2|  00:00.0|00:00.0| 00:00.0|     4|              0|         SO71863|      PO16124166561|10-4020-000649|     29975|           1098|           1098|CARGO TRANSPORT 5|                  NULL|  3324.2759| 265.9421|  83.1069| 3673.3249|   NULL|3ED03B56-A4BF-487...|     00:00.0|\n",
            "|       71867|             2|  00:00.0|00:00.0| 00:00.0|     3|              0|         SO71867|      PO13050111529|10-4020-000160|     29644|            643|            643|CARGO TRANSPORT 5|                  NULL|    1059.31|  84.7448|  26.4828| 1170.5376|   NULL|29743C1B-D3AF-4CF...|     00:00.0|\n",
            "|       71885|             2|  00:00.0|00:00.0| 00:00.0|     1|              0|         SO71885|       PO6119130779|10-4020-000268|     29612|            649|            649|CARGO TRANSPORT 5|                  NULL|    550.386|  44.0309|  13.7597|  608.1766|   NULL|CAAD090D-56A6-444...|     00:00.0|\n",
            "|       71895|             2|  00:00.0|00:00.0| 00:00.0|     1|              0|         SO71895|       PO3770176273|10-4020-000151|     29584|           1014|           1014|CARGO TRANSPORT 5|                  NULL|   246.7392|  19.7391|   6.1685|  272.6468|   NULL|07A17C0A-7F9A-441...|     00:00.0|\n",
            "+------------+--------------+---------+-------+--------+------+---------------+----------------+-------------------+--------------+----------+---------------+---------------+-----------------+----------------------+-----------+---------+---------+----------+-------+--------------------+------------+\n",
            "only showing top 20 rows\n",
            "\n",
            "+------------+---------+------+--------+\n",
            "|SalesOrderID|OrderDate|Status|ShipDate|\n",
            "+------------+---------+------+--------+\n",
            "|       71774|  00:00.0|     5| 00:00.0|\n",
            "+------------+---------+------+--------+\n",
            "\n"
          ]
        }
      ]
    },
    {
      "cell_type": "code",
      "source": [
        "#U005 - New database to capture the data receive from build-in computer\n",
        "from pyspark.sql.types import StructType,StructField, StringType, IntegerType\n",
        "\n",
        "Bicycle_data = [(\"James\",\"\",\"Smith\",\"FR-R92R-58\",\"100A00\",45,55,\"In Motion\",30,\"No\",\"ABC\"),\n",
        "    (\"Michael\",\"Rose\",\"\",\"SO-B909-L\",\"200B123\",66,45,\"Stationary\",0,\"Yes\",\"TERA\"),\n",
        "    (\"Robert\",\"\",\"Williams\",\"FR-R92R-44\",\"678T543\",100,0,\"In Motion\",40,\"No\",\"Part2\"),\n",
        "    (\"Maria\",\"Anne\",\"Jones\",\"FR-R38B-58\",\"345T123\",20,40,\"In Motion\",10,\"No\",\"Part3\"),\n",
        "    (\"Jen\",\"Mary\",\"Brown\",\"CA-1098\",\"100F200\",45,33,\"Stationary\",0,\"Yes\",\"Saga\")\n",
        "  ]\n",
        "\n",
        "schema = StructType([ \\\n",
        "    StructField(\"ROwner_firstname\",StringType(),True), \\\n",
        "    StructField(\"ROnwre_middlename\",StringType(),True), \\\n",
        "    StructField(\"ROnwre_lastname\",StringType(),True), \\\n",
        "    StructField(\"ProductNumber\", StringType(), True), \\\n",
        "    StructField(\"ProductSerialNo\", StringType(), True), \\\n",
        "    StructField(\"Longitude\", IntegerType(), True), \\\n",
        "    StructField(\"Latitude\", IntegerType(), True), \\\n",
        "    StructField(\"CurrentStatus\", StringType(), True), \\\n",
        "    StructField(\"CurrentSpeed\", IntegerType(), True), \\\n",
        "    StructField(\"Locked\", StringType(), True), \\\n",
        "    StructField(\"Parts\", StringType(), True) \\\n",
        "   ])\n",
        "\n",
        "df = spark.createDataFrame(data=Bicycle_data,schema=schema)\n",
        "df.printSchema()\n",
        "df.show(truncate=False)\n",
        "df.write.options(header=True, delimiter=',').mode('overwrite').csv(\"BicycleData\")\n",
        "df.repartition(1).write.options(header=True, delimiter=',').mode('overwrite').csv(\"BicycleData1\")"
      ],
      "metadata": {
        "colab": {
          "base_uri": "https://localhost:8080/"
        },
        "id": "cwuJLadL2-i3",
        "outputId": "c75341ac-ae87-4498-a3cf-9a01303c407b"
      },
      "execution_count": null,
      "outputs": [
        {
          "output_type": "stream",
          "name": "stdout",
          "text": [
            "root\n",
            " |-- ROwner_firstname: string (nullable = true)\n",
            " |-- ROnwre_middlename: string (nullable = true)\n",
            " |-- ROnwre_lastname: string (nullable = true)\n",
            " |-- ProductNumber: string (nullable = true)\n",
            " |-- ProductSerialNo: string (nullable = true)\n",
            " |-- Longitude: integer (nullable = true)\n",
            " |-- Latitude: integer (nullable = true)\n",
            " |-- CurrentStatus: string (nullable = true)\n",
            " |-- CurrentSpeed: integer (nullable = true)\n",
            " |-- Locked: string (nullable = true)\n",
            " |-- Parts: string (nullable = true)\n",
            "\n",
            "+----------------+-----------------+---------------+-------------+---------------+---------+--------+-------------+------------+------+-----+\n",
            "|ROwner_firstname|ROnwre_middlename|ROnwre_lastname|ProductNumber|ProductSerialNo|Longitude|Latitude|CurrentStatus|CurrentSpeed|Locked|Parts|\n",
            "+----------------+-----------------+---------------+-------------+---------------+---------+--------+-------------+------------+------+-----+\n",
            "|James           |                 |Smith          |FR-R92R-58   |100A00         |45       |55      |In Motion    |30          |No    |ABC  |\n",
            "|Michael         |Rose             |               |SO-B909-L    |200B123        |66       |45      |Stationary   |0           |Yes   |TERA |\n",
            "|Robert          |                 |Williams       |FR-R92R-44   |678T543        |100      |0       |In Motion    |40          |No    |Part2|\n",
            "|Maria           |Anne             |Jones          |FR-R38B-58   |345T123        |20       |40      |In Motion    |10          |No    |Part3|\n",
            "|Jen             |Mary             |Brown          |CA-1098      |100F200        |45       |33      |Stationary   |0           |Yes   |Saga |\n",
            "+----------------+-----------------+---------------+-------------+---------------+---------+--------+-------------+------------+------+-----+\n",
            "\n"
          ]
        }
      ]
    },
    {
      "cell_type": "code",
      "source": [
        "#U006 - Spare parts table needs to be created based on the bicycle model id\n",
        "from pyspark.sql.types import StructType,StructField, StringType, IntegerType\n",
        "\n",
        "Bicycle_parts = [(\"FR-R92R-58\",\"100A00\",\"Part1\",\"Part2\",\"Part3\",\"Part4\"),\n",
        "    (\"SO-B909-L\",\"200B123\",\"Dart1\",\"Dart2\",\"Dart3\",\"Dart4\"),\n",
        "    (\"FR-R92R-44\",\"678T543\",\"Part4\",\" \",\" \",\" \"),\n",
        "    (\"FR-R38B-58\",\"345T123\",\"Dart5\",\" \",\" \",\" \"),\n",
        "    (\"CA-1098\",\"100F200\",\"Part5\",\"Part6\",\" \",\" \")\n",
        "  ]\n",
        "\n",
        "partsschema = StructType([\n",
        "    StructField(\"ProductNumber\", StringType(), True),\n",
        "    StructField(\"ProductSerialNo\", StringType(), True),\n",
        "    StructField(\"Part1\", StringType(), True),\n",
        "    StructField(\"Part2\", StringType(), True),\n",
        "    StructField(\"Part3\", StringType(), True),\n",
        "    StructField(\"Part4\", StringType(), True)\n",
        "  ])\n",
        "#    StructField(\"Parts\", ArrayType(StringType()), True) -> CSV does not support array type\n",
        "\n",
        "df = spark.createDataFrame(data=Bicycle_parts,schema=partsschema)\n",
        "df.printSchema()\n",
        "df.show(truncate=False)\n",
        "#df.write.options(header=True, delimiter=',').mode('overwrite').csv(\"BicycleData\")\n",
        "df.repartition(1).write.options(header=True, delimiter=',').mode('overwrite').csv(\"BicycleParts\")"
      ],
      "metadata": {
        "colab": {
          "base_uri": "https://localhost:8080/"
        },
        "id": "1-T_Wwq3eLgt",
        "outputId": "491e2bbe-9f4c-4998-c9ad-3b6c3e98b260"
      },
      "execution_count": null,
      "outputs": [
        {
          "output_type": "stream",
          "name": "stdout",
          "text": [
            "root\n",
            " |-- ProductNumber: string (nullable = true)\n",
            " |-- ProductSerialNo: string (nullable = true)\n",
            " |-- Part1: string (nullable = true)\n",
            " |-- Part2: string (nullable = true)\n",
            " |-- Part3: string (nullable = true)\n",
            " |-- Part4: string (nullable = true)\n",
            "\n",
            "+-------------+---------------+-----+-----+-----+-----+\n",
            "|ProductNumber|ProductSerialNo|Part1|Part2|Part3|Part4|\n",
            "+-------------+---------------+-----+-----+-----+-----+\n",
            "|FR-R92R-58   |100A00         |Part1|Part2|Part3|Part4|\n",
            "|SO-B909-L    |200B123        |Dart1|Dart2|Dart3|Dart4|\n",
            "|FR-R92R-44   |678T543        |Part4|     |     |     |\n",
            "|FR-R38B-58   |345T123        |Dart5|     |     |     |\n",
            "|CA-1098      |100F200        |Part5|Part6|     |     |\n",
            "+-------------+---------------+-----+-----+-----+-----+\n",
            "\n"
          ]
        }
      ]
    },
    {
      "cell_type": "code",
      "source": [],
      "metadata": {
        "id": "JpfXWQ29l5Q4"
      },
      "execution_count": null,
      "outputs": []
    }
  ]
}